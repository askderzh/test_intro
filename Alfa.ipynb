{
 "cells": [
  {
   "cell_type": "code",
   "execution_count": 34,
   "metadata": {},
   "outputs": [],
   "source": [
    "import pandas as pd\n",
    "import numpy as np\n",
    "import seaborn as sb\n",
    "import scipy\n",
    "import matplotlib.pyplot as plt \n",
    "%matplotlib inline"
   ]
  },
  {
   "cell_type": "markdown",
   "metadata": {},
   "source": [
    "Загружаем датасет с данными об акциях Apple и посмотрим как он выглядит."
   ]
  },
  {
   "cell_type": "markdown",
   "metadata": {},
   "source": [
    "Данные загружены с сайта https://www.alphavantage.co/ с помощью функций:\n",
    "\n",
    "function=TIME_SERIES_DAILY\n",
    "\n",
    "symbol=AAPL\n",
    "\n",
    "outputsize=full\n",
    "\n",
    "apikey=I3SA9EP8MYTPIZJ3\n",
    "\n",
    "datatype=csv"
   ]
  },
  {
   "cell_type": "code",
   "execution_count": 18,
   "metadata": {},
   "outputs": [
    {
     "data": {
      "text/html": [
       "<div>\n",
       "<style scoped>\n",
       "    .dataframe tbody tr th:only-of-type {\n",
       "        vertical-align: middle;\n",
       "    }\n",
       "\n",
       "    .dataframe tbody tr th {\n",
       "        vertical-align: top;\n",
       "    }\n",
       "\n",
       "    .dataframe thead th {\n",
       "        text-align: right;\n",
       "    }\n",
       "</style>\n",
       "<table border=\"1\" class=\"dataframe\">\n",
       "  <thead>\n",
       "    <tr style=\"text-align: right;\">\n",
       "      <th></th>\n",
       "      <th>timestamp</th>\n",
       "      <th>open</th>\n",
       "      <th>high</th>\n",
       "      <th>low</th>\n",
       "      <th>close</th>\n",
       "      <th>volume</th>\n",
       "    </tr>\n",
       "  </thead>\n",
       "  <tbody>\n",
       "    <tr>\n",
       "      <th>0</th>\n",
       "      <td>2020-05-22</td>\n",
       "      <td>315.77</td>\n",
       "      <td>319.23</td>\n",
       "      <td>315.3500</td>\n",
       "      <td>318.89</td>\n",
       "      <td>20450754</td>\n",
       "    </tr>\n",
       "    <tr>\n",
       "      <th>1</th>\n",
       "      <td>2020-05-21</td>\n",
       "      <td>318.66</td>\n",
       "      <td>320.89</td>\n",
       "      <td>315.8700</td>\n",
       "      <td>316.85</td>\n",
       "      <td>25672211</td>\n",
       "    </tr>\n",
       "    <tr>\n",
       "      <th>2</th>\n",
       "      <td>2020-05-20</td>\n",
       "      <td>316.68</td>\n",
       "      <td>319.52</td>\n",
       "      <td>316.2000</td>\n",
       "      <td>319.23</td>\n",
       "      <td>27876215</td>\n",
       "    </tr>\n",
       "    <tr>\n",
       "      <th>3</th>\n",
       "      <td>2020-05-19</td>\n",
       "      <td>315.03</td>\n",
       "      <td>318.52</td>\n",
       "      <td>313.0100</td>\n",
       "      <td>313.14</td>\n",
       "      <td>25432385</td>\n",
       "    </tr>\n",
       "    <tr>\n",
       "      <th>4</th>\n",
       "      <td>2020-05-18</td>\n",
       "      <td>313.17</td>\n",
       "      <td>316.50</td>\n",
       "      <td>310.3241</td>\n",
       "      <td>314.96</td>\n",
       "      <td>33843125</td>\n",
       "    </tr>\n",
       "  </tbody>\n",
       "</table>\n",
       "</div>"
      ],
      "text/plain": [
       "    timestamp    open    high       low   close    volume\n",
       "0  2020-05-22  315.77  319.23  315.3500  318.89  20450754\n",
       "1  2020-05-21  318.66  320.89  315.8700  316.85  25672211\n",
       "2  2020-05-20  316.68  319.52  316.2000  319.23  27876215\n",
       "3  2020-05-19  315.03  318.52  313.0100  313.14  25432385\n",
       "4  2020-05-18  313.17  316.50  310.3241  314.96  33843125"
      ]
     },
     "execution_count": 18,
     "metadata": {},
     "output_type": "execute_result"
    }
   ],
   "source": [
    "APPLE = pd.read_csv('downloads/daily_AAPL.csv')\n",
    "APPLE.head()"
   ]
  },
  {
   "cell_type": "markdown",
   "metadata": {},
   "source": [
    "Берём только данные за последние 10 лет(timestamp>=2010-05-22)"
   ]
  },
  {
   "cell_type": "code",
   "execution_count": 19,
   "metadata": {},
   "outputs": [],
   "source": [
    "APPLE = APPLE[APPLE['timestamp']>='2010-05-22']"
   ]
  },
  {
   "cell_type": "markdown",
   "metadata": {},
   "source": [
    "Аналогично загружаем данные о ценах акций Facebook и Google, берём данные за последние 10 лет"
   ]
  },
  {
   "cell_type": "code",
   "execution_count": 25,
   "metadata": {},
   "outputs": [],
   "source": [
    "GOOGLE = pd.read_csv('downloads/daily_GOOGL.csv')\n",
    "FACEBOOK = pd.read_csv('downloads/daily_FB.csv')\n",
    "GOOGLE = GOOGLE[GOOGLE['timestamp']>='2010-05-22']\n",
    "FACEBOOK = FACEBOOK[FACEBOOK['timestamp']>='2010-05-22']"
   ]
  },
  {
   "cell_type": "code",
   "execution_count": 33,
   "metadata": {},
   "outputs": [
    {
     "data": {
      "text/plain": [
       "(2016, 6)"
      ]
     },
     "execution_count": 33,
     "metadata": {},
     "output_type": "execute_result"
    }
   ],
   "source": [
    "FACEBOOK.shape"
   ]
  },
  {
   "cell_type": "markdown",
   "metadata": {},
   "source": [
    "Размер(shape) датасета FACEBOOK меньше, чем APPLE и GOOGLE, так как Facebook вышел на IPO только в 2012 году"
   ]
  },
  {
   "cell_type": "code",
   "execution_count": null,
   "metadata": {},
   "outputs": [],
   "source": []
  },
  {
   "cell_type": "code",
   "execution_count": null,
   "metadata": {},
   "outputs": [],
   "source": []
  }
 ],
 "metadata": {
  "kernelspec": {
   "display_name": "Python 3",
   "language": "python",
   "name": "python3"
  },
  "language_info": {
   "codemirror_mode": {
    "name": "ipython",
    "version": 3
   },
   "file_extension": ".py",
   "mimetype": "text/x-python",
   "name": "python",
   "nbconvert_exporter": "python",
   "pygments_lexer": "ipython3",
   "version": "3.8.2"
  }
 },
 "nbformat": 4,
 "nbformat_minor": 4
}
